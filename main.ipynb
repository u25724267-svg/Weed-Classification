{
 "cells": [
  {
   "cell_type": "code",
   "execution_count": 1,
   "id": "5d690fa9",
   "metadata": {},
   "outputs": [
    {
     "name": "stdout",
     "output_type": "stream",
     "text": [
      "Using device: cuda\n"
     ]
    }
   ],
   "source": [
    "\n",
    "import os\n",
    "import io\n",
    "import zipfile\n",
    "import random\n",
    "import math\n",
    "from pathlib import Path\n",
    "from typing import Tuple, Dict, List\n",
    "\n",
    "import numpy as np\n",
    "import pandas as pd\n",
    "import matplotlib.pyplot as plt\n",
    "\n",
    "import torch\n",
    "import torch.nn as nn\n",
    "import torch.nn.functional as F\n",
    "from torch.utils.data import DataLoader, Subset\n",
    "from torchvision import datasets, transforms\n",
    "\n",
    "from sklearn.metrics import (\n",
    "    accuracy_score, precision_recall_fscore_support, roc_auc_score,\n",
    "    roc_curve, classification_report, confusion_matrix\n",
    ")\n",
    "from sklearn.model_selection import train_test_split\n",
    "from sklearn.preprocessing import StandardScaler, label_binarize\n",
    "from sklearn.svm import LinearSVC\n",
    "from sklearn.calibration import CalibratedClassifierCV\n",
    "\n",
    "# xgboost (install if needed)\n",
    "try:\n",
    "    import xgboost as xgb\n",
    "except ImportError:\n",
    "    import sys, subprocess\n",
    "    subprocess.check_call([sys.executable, \"-m\", \"pip\", \"install\", \"-q\", \"xgboost\"])\n",
    "    import xgboost as xgb\n",
    "\n",
    "# Reproducibility\n",
    "def set_seed(seed: int = 42):\n",
    "    random.seed(seed)\n",
    "    np.random.seed(seed)\n",
    "    torch.manual_seed(seed)\n",
    "    torch.cuda.manual_seed_all(seed)\n",
    "    # Make cuDNN deterministic (note: may reduce performance)\n",
    "    torch.backends.cudnn.deterministic = True\n",
    "    torch.backends.cudnn.benchmark = False\n",
    "\n",
    "set_seed(42)\n",
    "\n",
    "DEVICE = torch.device(\"cuda\" if torch.cuda.is_available() else \"cpu\")\n",
    "print(f\"Using device: {DEVICE}\")\n"
   ]
  },
  {
   "cell_type": "code",
   "execution_count": null,
   "id": "c3c8843c",
   "metadata": {},
   "outputs": [
    {
     "name": "stdout",
     "output_type": "stream",
     "text": [
      "Train dir: data\\train\n",
      "Test  dir: data\\train  (same as train; using 80/20 split for test)\n",
      "Classes: ['Black-grass', 'Charlock', 'Cleavers', 'Common Chickweed', 'Common wheat', 'Fat Hen', 'Loose Silky-bent', 'Maize', 'Scentless Mayweed', 'Shepherds Purse', 'Small-flowered Cranesbill', 'Sugar beet']  | #classes: 12\n",
      "Train images (total): 4750\n",
      "Train/Val/Test sizes: 3800/950/950\n"
     ]
    }
   ],
   "source": [
    "\n",
    "def find_zip(name: str) -> Path:\n",
    "    candidates = [Path(\".\")/name, Path(\"..\")/name]\n",
    "    for c in candidates:\n",
    "        if c.exists():\n",
    "            return c.resolve()\n",
    "    raise FileNotFoundError(f\"Could not find {name} in . or ..\")\n",
    "\n",
    "def unzip_to_dir(zip_path: Path, out_dir: Path):\n",
    "    if out_dir.exists() and any(out_dir.iterdir()):\n",
    "        # Already unzipped\n",
    "        return\n",
    "    out_dir.mkdir(parents=True, exist_ok=True)\n",
    "    with zipfile.ZipFile(zip_path, 'r') as zf:\n",
    "        zf.extractall(out_dir)\n",
    "\n",
    "\n",
    "def prepare_data_dirs(train_zip=\"train.zip\", out_root=Path(\"./data\")) -> Tuple[Path, Path]:\n",
    "    out_root.mkdir(parents=True, exist_ok=True)\n",
    "    train_dir = out_root / \"train\"\n",
    "    tz = find_zip(train_zip)\n",
    "    unzip_to_dir(tz, train_dir)\n",
    "\n",
    "    return train_dir, train_dir\n",
    "\n",
    "train_dir, test_dir = prepare_data_dirs()\n",
    "print(f\"Train dir: {train_dir}\")\n",
    "print(f\"Test  dir: {test_dir}  (same as train; using 80/20 split for test)\")\n",
    "\n",
    "# Define transforms (unchanged)\n",
    "IMG_SIZE = 224\n",
    "train_tf = transforms.Compose([\n",
    "    transforms.Resize((IMG_SIZE, IMG_SIZE)),\n",
    "    transforms.RandomHorizontalFlip(p=0.5),\n",
    "    transforms.RandomRotation(degrees=10),\n",
    "    transforms.ColorJitter(brightness=0.15, contrast=0.15, saturation=0.15, hue=0.02),\n",
    "    transforms.ToTensor(),\n",
    "    transforms.Normalize(mean=(0.485,0.456,0.406), std=(0.229,0.224,0.225)),\n",
    "])\n",
    "\n",
    "eval_tf = transforms.Compose([\n",
    "    transforms.Resize((IMG_SIZE, IMG_SIZE)),\n",
    "    transforms.ToTensor(),\n",
    "    transforms.Normalize(mean=(0.485,0.456,0.406), std=(0.229,0.224,0.225)),\n",
    "])\n",
    "\n",
    "# Load full dataset from *train* only (unchanged line except conceptually now used for test too)\n",
    "full_train = datasets.ImageFolder(root=str(train_dir), transform=train_tf)\n",
    "\n",
    "\n",
    "class_names = full_train.classes\n",
    "num_classes = len(class_names)\n",
    "print(\"Classes:\", class_names, \" | #classes:\", num_classes)\n",
    "print(\"Train images (total):\", len(full_train))\n",
    "\n",
    "# Build a stratified 80/20 split from the training folder (unchanged)\n",
    "def stratified_indices(dataset: datasets.ImageFolder, val_size=0.2, seed=42):\n",
    "    targets = [y for _, y in dataset.samples]\n",
    "    idxs = np.arange(len(dataset))\n",
    "    tr_idx, val_idx = train_test_split(\n",
    "        idxs, test_size=val_size, random_state=seed, stratify=targets\n",
    "    )\n",
    "    return tr_idx, val_idx\n",
    "\n",
    "train_idx, val_idx = stratified_indices(full_train, val_size=0.2, seed=42)\n",
    "\n",
    "# Re-wrap datasets\n",
    "train_ds = Subset(full_train, train_idx)\n",
    "val_base = datasets.ImageFolder(root=str(train_dir), transform=eval_tf)\n",
    "val_ds = Subset(val_base, val_idx)\n",
    "\n",
    "test_ds = val_ds  # the 20% from train becomes the test set\n",
    "\n",
    "# DataLoaders (unchanged)\n",
    "BATCH_SIZE = 32\n",
    "train_loader = DataLoader(train_ds, batch_size=BATCH_SIZE, shuffle=True, num_workers=2, pin_memory=True)\n",
    "val_loader   = DataLoader(val_ds, batch_size=BATCH_SIZE, shuffle=False, num_workers=2, pin_memory=True)\n",
    "test_loader  = DataLoader(test_ds, batch_size=BATCH_SIZE, shuffle=False, num_workers=2, pin_memory=True)\n",
    "\n",
    "print(f\"Train/Val/Test sizes: {len(train_ds)}/{len(val_ds)}/{len(test_ds)}\")\n"
   ]
  },
  {
   "cell_type": "markdown",
   "id": "1d6ddc1b",
   "metadata": {},
   "source": []
  },
  {
   "cell_type": "code",
   "execution_count": null,
   "id": "61e68bab",
   "metadata": {},
   "outputs": [
    {
     "name": "stdout",
     "output_type": "stream",
     "text": [
      "Class weights: [1.3042071  0.87783164 1.1959977  0.56008893 1.5473642  0.720746\n",
      " 0.52367777 1.5473642  0.66315615 1.4804512  0.6898828  0.8892321 ]\n"
     ]
    }
   ],
   "source": [
    "\n",
    "def compute_class_weights(dataset: Subset, num_classes: int) -> torch.Tensor:\n",
    "    counts = np.zeros(num_classes, dtype=np.int64)\n",
    "    base: datasets.ImageFolder = dataset.dataset\n",
    "    for i in dataset.indices:\n",
    "        _, y = base.samples[i]\n",
    "        counts[y] += 1\n",
    "    weights = counts.sum() / (counts + 1e-8)  # inverse frequency\n",
    "    weights = weights / weights.mean()        # normalize\n",
    "    return torch.tensor(weights, dtype=torch.float32)\n",
    "\n",
    "class_weights = compute_class_weights(train_ds, num_classes=num_classes).to(DEVICE)\n",
    "print(\"Class weights:\", class_weights.cpu().numpy())\n"
   ]
  },
  {
   "cell_type": "markdown",
   "id": "bc4f0a4f",
   "metadata": {},
   "source": []
  },
  {
   "cell_type": "code",
   "execution_count": 4,
   "id": "815c4d02",
   "metadata": {},
   "outputs": [],
   "source": [
    "# %%\n",
    "ACTIVATIONS = {\n",
    "    \"relu\": nn.ReLU,\n",
    "    \"leaky_relu\": nn.LeakyReLU,\n",
    "    \"gelu\": nn.GELU,\n",
    "    \"silu\": nn.SiLU,   # a.k.a. swish\n",
    "}\n",
    "\n",
    "class SmallCNN(nn.Module):\n",
    "    def __init__(self,\n",
    "                 in_ch: int = 3,\n",
    "                 num_classes: int = 12,\n",
    "                 act_name: str = \"relu\",\n",
    "                 dropout: float = 0.3,\n",
    "                 conv_channels: List[int] = [32, 64, 128, 256],\n",
    "                 kernel_size: int = 3,\n",
    "                 pool_every: int = 2,\n",
    "                 feature_dim: int = 256):\n",
    "        super().__init__()\n",
    "        Act = ACTIVATIONS.get(act_name.lower(), nn.ReLU)\n",
    "\n",
    "        layers = []\n",
    "        ch = in_ch\n",
    "        for i, ch_out in enumerate(conv_channels):\n",
    "            layers += [\n",
    "                nn.Conv2d(ch, ch_out, kernel_size=kernel_size, stride=1, padding=kernel_size//2),\n",
    "                nn.BatchNorm2d(ch_out),\n",
    "                Act(inplace=True) if Act in (nn.ReLU, nn.LeakyReLU, nn.SiLU) else Act(),\n",
    "            ]\n",
    "            if (i + 1) % pool_every == 0:\n",
    "                layers.append(nn.MaxPool2d(kernel_size=2, stride=2))\n",
    "            ch = ch_out\n",
    "\n",
    "        self.features = nn.Sequential(*layers)\n",
    "\n",
    "        # compute spatial size after convs/pools, using a dummy tensor\n",
    "        with torch.no_grad():\n",
    "            dummy = torch.zeros(1, 3, IMG_SIZE, IMG_SIZE)\n",
    "            feat_out = self.features(dummy)\n",
    "            self._feat_shape = feat_out.shape[1:]  # (C, H, W)\n",
    "            flat_size = feat_out.numel()\n",
    "\n",
    "        self.gap = nn.AdaptiveAvgPool2d((1,1))  # Global Average Pooling\n",
    "\n",
    "        # Project to a compact feature vector\n",
    "        self.feat_head = nn.Sequential(\n",
    "            nn.Flatten(),                 # flatten pooled Cx1x1 -> C\n",
    "            nn.Linear(self._feat_shape[0], feature_dim),\n",
    "            nn.BatchNorm1d(feature_dim),\n",
    "            nn.Dropout(p=dropout),\n",
    "            Act()\n",
    "        )\n",
    "\n",
    "        self.classifier = nn.Linear(feature_dim, num_classes)\n",
    "        self.feature_dim = feature_dim\n",
    "\n",
    "    def forward_features(self, x):\n",
    "        x = self.features(x)\n",
    "        x = self.gap(x)\n",
    "        x = self.feat_head(x)\n",
    "        return x  # (B, feature_dim)\n",
    "\n",
    "    def forward(self, x):\n",
    "        feats = self.forward_features(x)\n",
    "        logits = self.classifier(feats)\n",
    "        return logits, feats\n",
    "\n",
    "def make_model(num_classes: int,\n",
    "               act_name: str = \"relu\",\n",
    "               feature_dim: int = 256) -> SmallCNN:\n",
    "    model = SmallCNN(num_classes=num_classes, act_name=act_name, feature_dim=feature_dim)\n",
    "    return model.to(DEVICE)\n"
   ]
  },
  {
   "cell_type": "markdown",
   "id": "6e828b22",
   "metadata": {},
   "source": []
  },
  {
   "cell_type": "code",
   "execution_count": 5,
   "id": "bce053b9",
   "metadata": {},
   "outputs": [],
   "source": [
    "# %%\n",
    "def train_one_epoch(model: nn.Module, loader: DataLoader,\n",
    "                    optimizer: torch.optim.Optimizer,\n",
    "                    criterion, epoch: int, log_every: int = 100):\n",
    "    model.train()\n",
    "    running_loss = 0.0\n",
    "    correct = 0\n",
    "    total = 0\n",
    "\n",
    "    for step, (x, y) in enumerate(loader):\n",
    "        x, y = x.to(DEVICE, non_blocking=True), torch.tensor(y).to(DEVICE)\n",
    "\n",
    "        optimizer.zero_grad(set_to_none=True)\n",
    "        logits, _ = model(x)\n",
    "        loss = criterion(logits, y)\n",
    "        loss.backward()\n",
    "        optimizer.step()\n",
    "\n",
    "        running_loss += loss.item() * x.size(0)\n",
    "        preds = logits.argmax(1)\n",
    "        correct += (preds == y).sum().item()\n",
    "        total += y.size(0)\n",
    "\n",
    "        if (step + 1) % log_every == 0:\n",
    "            print(f\"  step {step+1}/{len(loader)} | loss={loss.item():.4f}\")\n",
    "\n",
    "    return running_loss / total, correct / total\n",
    "\n",
    "@torch.no_grad()\n",
    "def evaluate(model: nn.Module, loader: DataLoader, return_probs: bool = True):\n",
    "    model.eval()\n",
    "    all_logits = []\n",
    "    all_targets = []\n",
    "    for x, y in loader:\n",
    "        x = x.to(DEVICE, non_blocking=True)\n",
    "        logits, _ = model(x)\n",
    "        all_logits.append(logits.cpu())\n",
    "        all_targets.append(y)\n",
    "\n",
    "    logits = torch.cat(all_logits, dim=0)\n",
    "    y_true = torch.cat(all_targets, dim=0).numpy()\n",
    "\n",
    "    y_pred = logits.argmax(1).numpy()\n",
    "    acc = accuracy_score(y_true, y_pred)\n",
    "    precision, recall, f1, _ = precision_recall_fscore_support(\n",
    "        y_true, y_pred, average='micro', zero_division=0\n",
    "    )\n",
    "\n",
    "    probs = F.softmax(logits, dim=1).numpy() if return_probs else None\n",
    "    return {\n",
    "        \"y_true\": y_true,\n",
    "        \"y_pred\": y_pred,\n",
    "        \"probs\": probs,\n",
    "        \"acc\": acc,\n",
    "        \"precision_micro\": precision,\n",
    "        \"recall_micro\": recall,\n",
    "        \"f1_micro\": f1\n",
    "    }\n",
    "\n",
    "def compute_micro_roc_auc(y_true: np.ndarray, probs: np.ndarray, n_classes: int) -> float:\n",
    "    y_bin = label_binarize(y_true, classes=np.arange(n_classes))\n",
    "    # Some classifiers may not output prob for all classes; ensure shape matches\n",
    "    if probs.shape[1] != n_classes:\n",
    "        raise ValueError(\"Probabilities do not match number of classes.\")\n",
    "    return roc_auc_score(y_bin, probs, average=\"micro\", multi_class=\"ovr\")\n",
    "\n",
    "def plot_micro_roc(y_true: np.ndarray, probs: np.ndarray, n_classes: int, title: str):\n",
    "    y_bin = label_binarize(y_true, classes=np.arange(n_classes))\n",
    "    fpr, tpr, _ = roc_curve(y_bin.ravel(), probs.ravel())\n",
    "    auc_micro = roc_auc_score(y_bin, probs, average=\"micro\", multi_class=\"ovr\")\n",
    "\n",
    "    plt.figure(figsize=(6,5))\n",
    "    plt.plot(fpr, tpr, label=f\"micro-avg ROC (AUC={auc_micro:.3f})\")\n",
    "    plt.plot([0,1], [0,1], linestyle='--')\n",
    "    plt.xlabel(\"False Positive Rate\")\n",
    "    plt.ylabel(\"True Positive Rate\")\n",
    "    plt.title(title)\n",
    "    plt.legend(loc=\"lower right\")\n",
    "    plt.grid(True)\n",
    "    plt.show()\n"
   ]
  },
  {
   "cell_type": "markdown",
   "id": "c3623542",
   "metadata": {},
   "source": []
  },
  {
   "cell_type": "code",
   "execution_count": 21,
   "id": "21c862e1",
   "metadata": {},
   "outputs": [
    {
     "name": "stdout",
     "output_type": "stream",
     "text": [
      "\n",
      "Epoch 1/15\n"
     ]
    },
    {
     "name": "stderr",
     "output_type": "stream",
     "text": [
      "C:\\Users\\muzir\\AppData\\Local\\Temp\\ipykernel_37204\\1711716459.py:11: UserWarning: To copy construct from a tensor, it is recommended to use sourceTensor.detach().clone() or sourceTensor.detach().clone().requires_grad_(True), rather than torch.tensor(sourceTensor).\n",
      "  x, y = x.to(DEVICE, non_blocking=True), torch.tensor(y).to(DEVICE)\n"
     ]
    },
    {
     "name": "stdout",
     "output_type": "stream",
     "text": [
      "  step 100/119 | loss=1.6414\n",
      "  Train loss=1.8915 | Train acc=0.3682\n",
      "  Val   acc=0.5989 | F1_micro=0.5989\n",
      "\n",
      "Epoch 2/15\n"
     ]
    },
    {
     "name": "stderr",
     "output_type": "stream",
     "text": [
      "C:\\Users\\muzir\\AppData\\Local\\Temp\\ipykernel_37204\\1711716459.py:11: UserWarning: To copy construct from a tensor, it is recommended to use sourceTensor.detach().clone() or sourceTensor.detach().clone().requires_grad_(True), rather than torch.tensor(sourceTensor).\n",
      "  x, y = x.to(DEVICE, non_blocking=True), torch.tensor(y).to(DEVICE)\n"
     ]
    },
    {
     "name": "stdout",
     "output_type": "stream",
     "text": [
      "  step 100/119 | loss=1.9355\n",
      "  Train loss=1.5054 | Train acc=0.4976\n",
      "  Val   acc=0.5968 | F1_micro=0.5968\n",
      "\n",
      "Epoch 3/15\n"
     ]
    },
    {
     "name": "stderr",
     "output_type": "stream",
     "text": [
      "C:\\Users\\muzir\\AppData\\Local\\Temp\\ipykernel_37204\\1711716459.py:11: UserWarning: To copy construct from a tensor, it is recommended to use sourceTensor.detach().clone() or sourceTensor.detach().clone().requires_grad_(True), rather than torch.tensor(sourceTensor).\n",
      "  x, y = x.to(DEVICE, non_blocking=True), torch.tensor(y).to(DEVICE)\n"
     ]
    },
    {
     "name": "stdout",
     "output_type": "stream",
     "text": [
      "  step 100/119 | loss=2.0026\n",
      "  Train loss=1.3777 | Train acc=0.5432\n",
      "  Val   acc=0.6463 | F1_micro=0.6463\n",
      "\n",
      "Epoch 4/15\n"
     ]
    },
    {
     "name": "stderr",
     "output_type": "stream",
     "text": [
      "C:\\Users\\muzir\\AppData\\Local\\Temp\\ipykernel_37204\\1711716459.py:11: UserWarning: To copy construct from a tensor, it is recommended to use sourceTensor.detach().clone() or sourceTensor.detach().clone().requires_grad_(True), rather than torch.tensor(sourceTensor).\n",
      "  x, y = x.to(DEVICE, non_blocking=True), torch.tensor(y).to(DEVICE)\n"
     ]
    },
    {
     "name": "stdout",
     "output_type": "stream",
     "text": [
      "  step 100/119 | loss=1.1694\n",
      "  Train loss=1.2597 | Train acc=0.5903\n",
      "  Val   acc=0.6105 | F1_micro=0.6105\n",
      "\n",
      "Epoch 5/15\n"
     ]
    },
    {
     "name": "stderr",
     "output_type": "stream",
     "text": [
      "C:\\Users\\muzir\\AppData\\Local\\Temp\\ipykernel_37204\\1711716459.py:11: UserWarning: To copy construct from a tensor, it is recommended to use sourceTensor.detach().clone() or sourceTensor.detach().clone().requires_grad_(True), rather than torch.tensor(sourceTensor).\n",
      "  x, y = x.to(DEVICE, non_blocking=True), torch.tensor(y).to(DEVICE)\n"
     ]
    },
    {
     "name": "stdout",
     "output_type": "stream",
     "text": [
      "  step 100/119 | loss=1.4697\n",
      "  Train loss=1.1614 | Train acc=0.6142\n",
      "  Val   acc=0.6589 | F1_micro=0.6589\n",
      "\n",
      "Epoch 6/15\n"
     ]
    },
    {
     "name": "stderr",
     "output_type": "stream",
     "text": [
      "C:\\Users\\muzir\\AppData\\Local\\Temp\\ipykernel_37204\\1711716459.py:11: UserWarning: To copy construct from a tensor, it is recommended to use sourceTensor.detach().clone() or sourceTensor.detach().clone().requires_grad_(True), rather than torch.tensor(sourceTensor).\n",
      "  x, y = x.to(DEVICE, non_blocking=True), torch.tensor(y).to(DEVICE)\n"
     ]
    },
    {
     "name": "stdout",
     "output_type": "stream",
     "text": [
      "  step 100/119 | loss=1.1368\n",
      "  Train loss=1.1076 | Train acc=0.6329\n",
      "  Val   acc=0.6811 | F1_micro=0.6811\n",
      "\n",
      "Epoch 7/15\n"
     ]
    },
    {
     "name": "stderr",
     "output_type": "stream",
     "text": [
      "C:\\Users\\muzir\\AppData\\Local\\Temp\\ipykernel_37204\\1711716459.py:11: UserWarning: To copy construct from a tensor, it is recommended to use sourceTensor.detach().clone() or sourceTensor.detach().clone().requires_grad_(True), rather than torch.tensor(sourceTensor).\n",
      "  x, y = x.to(DEVICE, non_blocking=True), torch.tensor(y).to(DEVICE)\n"
     ]
    },
    {
     "name": "stdout",
     "output_type": "stream",
     "text": [
      "  step 100/119 | loss=1.0041\n",
      "  Train loss=1.0481 | Train acc=0.6561\n",
      "  Val   acc=0.6705 | F1_micro=0.6705\n",
      "\n",
      "Epoch 8/15\n"
     ]
    },
    {
     "name": "stderr",
     "output_type": "stream",
     "text": [
      "C:\\Users\\muzir\\AppData\\Local\\Temp\\ipykernel_37204\\1711716459.py:11: UserWarning: To copy construct from a tensor, it is recommended to use sourceTensor.detach().clone() or sourceTensor.detach().clone().requires_grad_(True), rather than torch.tensor(sourceTensor).\n",
      "  x, y = x.to(DEVICE, non_blocking=True), torch.tensor(y).to(DEVICE)\n"
     ]
    },
    {
     "name": "stdout",
     "output_type": "stream",
     "text": [
      "  step 100/119 | loss=0.8226\n",
      "  Train loss=0.9851 | Train acc=0.6742\n",
      "  Val   acc=0.6295 | F1_micro=0.6295\n",
      "\n",
      "Epoch 9/15\n"
     ]
    },
    {
     "name": "stderr",
     "output_type": "stream",
     "text": [
      "C:\\Users\\muzir\\AppData\\Local\\Temp\\ipykernel_37204\\1711716459.py:11: UserWarning: To copy construct from a tensor, it is recommended to use sourceTensor.detach().clone() or sourceTensor.detach().clone().requires_grad_(True), rather than torch.tensor(sourceTensor).\n",
      "  x, y = x.to(DEVICE, non_blocking=True), torch.tensor(y).to(DEVICE)\n"
     ]
    },
    {
     "name": "stdout",
     "output_type": "stream",
     "text": [
      "  step 100/119 | loss=1.0325\n",
      "  Train loss=0.9308 | Train acc=0.6932\n",
      "  Val   acc=0.7632 | F1_micro=0.7632\n",
      "\n",
      "Epoch 10/15\n"
     ]
    },
    {
     "name": "stderr",
     "output_type": "stream",
     "text": [
      "C:\\Users\\muzir\\AppData\\Local\\Temp\\ipykernel_37204\\1711716459.py:11: UserWarning: To copy construct from a tensor, it is recommended to use sourceTensor.detach().clone() or sourceTensor.detach().clone().requires_grad_(True), rather than torch.tensor(sourceTensor).\n",
      "  x, y = x.to(DEVICE, non_blocking=True), torch.tensor(y).to(DEVICE)\n"
     ]
    },
    {
     "name": "stdout",
     "output_type": "stream",
     "text": [
      "  step 100/119 | loss=0.9413\n",
      "  Train loss=0.8760 | Train acc=0.7063\n",
      "  Val   acc=0.6400 | F1_micro=0.6400\n",
      "\n",
      "Epoch 11/15\n"
     ]
    },
    {
     "name": "stderr",
     "output_type": "stream",
     "text": [
      "C:\\Users\\muzir\\AppData\\Local\\Temp\\ipykernel_37204\\1711716459.py:11: UserWarning: To copy construct from a tensor, it is recommended to use sourceTensor.detach().clone() or sourceTensor.detach().clone().requires_grad_(True), rather than torch.tensor(sourceTensor).\n",
      "  x, y = x.to(DEVICE, non_blocking=True), torch.tensor(y).to(DEVICE)\n"
     ]
    },
    {
     "name": "stdout",
     "output_type": "stream",
     "text": [
      "  step 100/119 | loss=0.7749\n",
      "  Train loss=0.8774 | Train acc=0.7124\n",
      "  Val   acc=0.7358 | F1_micro=0.7358\n",
      "\n",
      "Epoch 12/15\n"
     ]
    },
    {
     "name": "stderr",
     "output_type": "stream",
     "text": [
      "C:\\Users\\muzir\\AppData\\Local\\Temp\\ipykernel_37204\\1711716459.py:11: UserWarning: To copy construct from a tensor, it is recommended to use sourceTensor.detach().clone() or sourceTensor.detach().clone().requires_grad_(True), rather than torch.tensor(sourceTensor).\n",
      "  x, y = x.to(DEVICE, non_blocking=True), torch.tensor(y).to(DEVICE)\n"
     ]
    },
    {
     "name": "stdout",
     "output_type": "stream",
     "text": [
      "  step 100/119 | loss=0.7230\n",
      "  Train loss=0.8284 | Train acc=0.7208\n",
      "  Val   acc=0.7653 | F1_micro=0.7653\n",
      "\n",
      "Epoch 13/15\n"
     ]
    },
    {
     "name": "stderr",
     "output_type": "stream",
     "text": [
      "C:\\Users\\muzir\\AppData\\Local\\Temp\\ipykernel_37204\\1711716459.py:11: UserWarning: To copy construct from a tensor, it is recommended to use sourceTensor.detach().clone() or sourceTensor.detach().clone().requires_grad_(True), rather than torch.tensor(sourceTensor).\n",
      "  x, y = x.to(DEVICE, non_blocking=True), torch.tensor(y).to(DEVICE)\n"
     ]
    },
    {
     "name": "stdout",
     "output_type": "stream",
     "text": [
      "  step 100/119 | loss=0.6705\n",
      "  Train loss=0.8054 | Train acc=0.7279\n",
      "  Val   acc=0.7621 | F1_micro=0.7621\n",
      "\n",
      "Epoch 14/15\n"
     ]
    },
    {
     "name": "stderr",
     "output_type": "stream",
     "text": [
      "C:\\Users\\muzir\\AppData\\Local\\Temp\\ipykernel_37204\\1711716459.py:11: UserWarning: To copy construct from a tensor, it is recommended to use sourceTensor.detach().clone() or sourceTensor.detach().clone().requires_grad_(True), rather than torch.tensor(sourceTensor).\n",
      "  x, y = x.to(DEVICE, non_blocking=True), torch.tensor(y).to(DEVICE)\n"
     ]
    },
    {
     "name": "stdout",
     "output_type": "stream",
     "text": [
      "  step 100/119 | loss=0.6790\n",
      "  Train loss=0.7746 | Train acc=0.7405\n",
      "  Val   acc=0.7495 | F1_micro=0.7495\n",
      "\n",
      "Epoch 15/15\n"
     ]
    },
    {
     "name": "stderr",
     "output_type": "stream",
     "text": [
      "C:\\Users\\muzir\\AppData\\Local\\Temp\\ipykernel_37204\\1711716459.py:11: UserWarning: To copy construct from a tensor, it is recommended to use sourceTensor.detach().clone() or sourceTensor.detach().clone().requires_grad_(True), rather than torch.tensor(sourceTensor).\n",
      "  x, y = x.to(DEVICE, non_blocking=True), torch.tensor(y).to(DEVICE)\n"
     ]
    },
    {
     "name": "stdout",
     "output_type": "stream",
     "text": [
      "  step 100/119 | loss=0.7670\n",
      "  Train loss=0.7486 | Train acc=0.7500\n",
      "  Val   acc=0.7916 | F1_micro=0.7916\n"
     ]
    }
   ],
   "source": [
    "# %%\n",
    "ACT_FUNC = \"silu\"       # try: \"relu\", \"leaky_relu\", \"gelu\", \"silu\"\n",
    "FEATURE_DIM = 256\n",
    "LR = 3e-4\n",
    "EPOCHS = 15\n",
    "PATIENCE = 3\n",
    "WEIGHT_DECAY = 1e-4\n",
    "\n",
    "model = make_model(num_classes=num_classes, act_name=ACT_FUNC, feature_dim=FEATURE_DIM)\n",
    "\n",
    "optimizer = torch.optim.AdamW(model.parameters(), lr=LR, weight_decay=WEIGHT_DECAY)\n",
    "criterion = nn.CrossEntropyLoss(weight=class_weights)\n",
    "\n",
    "best_val_f1 = -np.inf\n",
    "best_state = None\n",
    "epochs_no_improve = 0\n",
    "\n",
    "for epoch in range(1, EPOCHS + 1):\n",
    "    print(f\"\\nEpoch {epoch}/{EPOCHS}\")\n",
    "    tr_loss, tr_acc = train_one_epoch(model, train_loader, optimizer, criterion, epoch)\n",
    "    val_metrics = evaluate(model, val_loader)\n",
    "    print(f\"  Train loss={tr_loss:.4f} | Train acc={tr_acc:.4f}\")\n",
    "    print(f\"  Val   acc={val_metrics['acc']:.4f} | F1_micro={val_metrics['f1_micro']:.4f}\")\n",
    "\n",
    "    if val_metrics['f1_micro'] > best_val_f1:\n",
    "        best_val_f1 = val_metrics['f1_micro']\n",
    "        best_state = {k: v.cpu().clone() for k, v in model.state_dict().items()}\n",
    "        epochs_no_improve = 0\n",
    "    else:\n",
    "        epochs_no_improve += 1\n",
    "        if epochs_no_improve >= PATIENCE:\n",
    "            print(\"Early stopping triggered.\")\n",
    "            break\n",
    "\n",
    "# load best model\n",
    "if best_state is not None:\n",
    "    model.load_state_dict(best_state)\n"
   ]
  },
  {
   "cell_type": "markdown",
   "id": "5dd42e41",
   "metadata": {},
   "source": []
  },
  {
   "cell_type": "code",
   "execution_count": 22,
   "id": "5b25c8d6",
   "metadata": {},
   "outputs": [
    {
     "name": "stdout",
     "output_type": "stream",
     "text": [
      "\n",
      "=== Baseline CNN (Softmax) ===\n",
      "Accuracy: 0.7916 | Precision (micro): 0.7916 | Recall (micro): 0.7916 | F1 (micro): 0.7916 | ROC-AUC (micro): 0.9846\n"
     ]
    },
    {
     "data": {
      "image/png": "[encoded data removed]",
      "text/plain": [
       "<Figure size 600x500 with 1 Axes>"
      ]
     },
     "metadata": {},
     "output_type": "display_data"
    }
   ],
   "source": [
    "# %%\n",
    "cnn_test = evaluate(model, test_loader)\n",
    "try:\n",
    "    cnn_auc = compute_micro_roc_auc(cnn_test[\"y_true\"], cnn_test[\"probs\"], num_classes)\n",
    "except Exception as e:\n",
    "    print(\"Warning (CNN ROC-AUC):\", e)\n",
    "    cnn_auc = float(\"nan\")\n",
    "\n",
    "print(\"\\n=== Baseline CNN (Softmax) ===\")\n",
    "print(f\"Accuracy: {cnn_test['acc']:.4f} | Precision (micro): {cnn_test['precision_micro']:.4f} \"\n",
    "      f\"| Recall (micro): {cnn_test['recall_micro']:.4f} | F1 (micro): {cnn_test['f1_micro']:.4f} | ROC-AUC (micro): {cnn_auc:.4f}\")\n",
    "\n",
    "plot_micro_roc(cnn_test[\"y_true\"], cnn_test[\"probs\"], num_classes, title=\"Baseline CNN - Micro ROC\")\n"
   ]
  },
  {
   "cell_type": "markdown",
   "id": "37794f81",
   "metadata": {},
   "source": [
    "# %% [markdown]\n",
    "# ## 7. Feature Extraction (Penultimate Layer)\n"
   ]
  },
  {
   "cell_type": "code",
   "execution_count": 23,
   "id": "423c0a97",
   "metadata": {},
   "outputs": [
    {
     "name": "stdout",
     "output_type": "stream",
     "text": [
      "Feature shapes: (3800, 256) (950, 256) (950, 256)\n"
     ]
    }
   ],
   "source": [
    "# %%\n",
    "@torch.no_grad()\n",
    "def extract_features(model: nn.Module, loader: DataLoader) -> Tuple[np.ndarray, np.ndarray]:\n",
    "    model.eval()\n",
    "    feats_list = []\n",
    "    y_list = []\n",
    "    for x, y in loader:\n",
    "        x = x.to(DEVICE, non_blocking=True)\n",
    "        _, feats = model(x)\n",
    "        feats_list.append(feats.cpu().numpy())\n",
    "        y_list.append(y.numpy())\n",
    "    X = np.concatenate(feats_list, axis=0)\n",
    "    y = np.concatenate(y_list, axis=0)\n",
    "    return X, y\n",
    "\n",
    "X_train, y_train = extract_features(model, train_loader)\n",
    "X_val,   y_val   = extract_features(model, val_loader)\n",
    "X_test,  y_test  = extract_features(model, test_loader)\n",
    "\n",
    "print(\"Feature shapes:\", X_train.shape, X_val.shape, X_test.shape)\n"
   ]
  },
  {
   "cell_type": "markdown",
   "id": "48197ab4",
   "metadata": {},
   "source": []
  },
  {
   "cell_type": "code",
   "execution_count": null,
   "id": "ea2facf8",
   "metadata": {},
   "outputs": [
    {
     "name": "stdout",
     "output_type": "stream",
     "text": [
      "SVM (val) acc: 0.8958\n",
      "\n",
      "=== CNN → SVM ===\n",
      "Accuracy: 0.8958 | Precision (micro): 0.8958 | Recall (micro): 0.8958 | F1 (micro): 0.8958 | ROC-AUC (micro): 0.9916\n"
     ]
    },
    {
     "data": {
      "image/png": "[encoded data removed]",
      "text/plain": [
       "<Figure size 600x500 with 1 Axes>"
      ]
     },
     "metadata": {},
     "output_type": "display_data"
    }
   ],
   "source": [
    "# %%\n",
    "def train_calibrated_svm(X_tr, y_tr, X_val, y_val) -> CalibratedClassifierCV:\n",
    "    scaler = StandardScaler()\n",
    "    X_trs = scaler.fit_transform(X_tr)\n",
    "    X_vals = scaler.transform(X_val)\n",
    "\n",
    "    base_svm = LinearSVC(C=1.0, class_weight=\"balanced\", max_iter=5000)\n",
    "    clf = CalibratedClassifierCV(base_svm, cv=3, method=\"sigmoid\")\n",
    "    clf.fit(X_trs, y_tr)\n",
    "   \n",
    "    val_pred = clf.predict(X_vals)\n",
    "    val_acc = accuracy_score(y_val, val_pred)\n",
    "    print(f\"SVM (val) acc: {val_acc:.4f}\")\n",
    "    \n",
    "    class SVMWrapper:\n",
    "        def __init__(self, scaler, clf):\n",
    "            self.scaler = scaler\n",
    "            self.clf = clf\n",
    "        def predict(self, X):\n",
    "            return self.clf.predict(self.scaler.transform(X))\n",
    "        def predict_proba(self, X):\n",
    "            return self.clf.predict_proba(self.scaler.transform(X))\n",
    "    return SVMWrapper(scaler, clf)\n",
    "\n",
    "svm_model = train_calibrated_svm(X_train, y_train, X_val, y_val)\n",
    "\n",
    "svm_pred = svm_model.predict(X_test)\n",
    "svm_proba = svm_model.predict_proba(X_test)\n",
    "\n",
    "svm_acc = accuracy_score(y_test, svm_pred)\n",
    "svm_prec, svm_rec, svm_f1, _ = precision_recall_fscore_support(\n",
    "    y_test, svm_pred, average=\"micro\", zero_division=0\n",
    ")\n",
    "svm_auc = roc_auc_score(label_binarize(y_test, classes=np.arange(num_classes)),\n",
    "                        svm_proba, average=\"micro\", multi_class=\"ovr\")\n",
    "\n",
    "print(\"\\n=== CNN → SVM ===\")\n",
    "print(f\"Accuracy: {svm_acc:.4f} | Precision (micro): {svm_prec:.4f} \"\n",
    "      f\"| Recall (micro): {svm_rec:.4f} | F1 (micro): {svm_f1:.4f} | ROC-AUC (micro): {svm_auc:.4f}\")\n",
    "\n",
    "plot_micro_roc(y_test, svm_proba, num_classes, title=\"CNN→SVM - Micro ROC\")\n"
   ]
  },
  {
   "cell_type": "markdown",
   "id": "cc238bfe",
   "metadata": {},
   "source": []
  },
  {
   "cell_type": "code",
   "execution_count": null,
   "id": "6f1e95d5",
   "metadata": {},
   "outputs": [
    {
     "name": "stdout",
     "output_type": "stream",
     "text": [
      "\n",
      "=== CNN → XGBoost ===\n",
      "Accuracy: 0.8589 | Precision (micro): 0.8589 | Recall (micro): 0.8589 | F1 (micro): 0.8589 | ROC-AUC (micro): 0.9934\n"
     ]
    },
    {
     "data": {
      "image/png": "[encoded data removed]",
      "text/plain": [
       "<Figure size 600x500 with 1 Axes>"
      ]
     },
     "metadata": {},
     "output_type": "display_data"
    }
   ],
   "source": [
    "# %%\n",
    "def train_xgb(X_tr, y_tr, X_val, y_val, num_classes: int) -> xgb.XGBClassifier:\n",
    "    model = xgb.XGBClassifier(\n",
    "        objective=\"multi:softprob\",\n",
    "        num_class=num_classes,\n",
    "        n_estimators=300,\n",
    "        max_depth=6,\n",
    "        learning_rate=0.05,\n",
    "        subsample=0.9,\n",
    "        colsample_bytree=0.9,\n",
    "        reg_lambda=1.0,\n",
    "        tree_method=\"hist\",   # f\n",
    "        n_jobs=0,\n",
    "        eval_metric=\"mlogloss\",\n",
    "        verbosity=0,\n",
    "    )\n",
    "    model.fit(\n",
    "        X_tr, y_tr,\n",
    "        eval_set=[(X_val, y_val)],\n",
    "        verbose=False\n",
    "    )\n",
    "    return model\n",
    "\n",
    "xgb_model = train_xgb(X_train, y_train, X_val, y_val, num_classes=num_classes)\n",
    "\n",
    "xgb_pred = xgb_model.predict(X_test)\n",
    "xgb_proba = xgb_model.predict_proba(X_test)\n",
    "\n",
    "xgb_acc = accuracy_score(y_test, xgb_pred)\n",
    "xgb_prec, xgb_rec, xgb_f1, _ = precision_recall_fscore_support(\n",
    "    y_test, xgb_pred, average=\"micro\", zero_division=0\n",
    ")\n",
    "xgb_auc = roc_auc_score(label_binarize(y_test, classes=np.arange(num_classes)),\n",
    "                        xgb_proba, average=\"micro\", multi_class=\"ovr\")\n",
    "\n",
    "print(\"\\n=== CNN → XGBoost ===\")\n",
    "print(f\"Accuracy: {xgb_acc:.4f} | Precision (micro): {xgb_prec:.4f} \"\n",
    "      f\"| Recall (micro): {xgb_rec:.4f} | F1 (micro): {xgb_f1:.4f} | ROC-AUC (micro): {xgb_auc:.4f}\")\n",
    "\n",
    "plot_micro_roc(y_test, xgb_proba, num_classes, title=\"CNN→XGBoost - Micro ROC\")\n"
   ]
  },
  {
   "cell_type": "markdown",
   "id": "093bee9e",
   "metadata": {},
   "source": []
  },
  {
   "cell_type": "code",
   "execution_count": 26,
   "id": "d12768ce",
   "metadata": {},
   "outputs": [
    {
     "data": {
      "text/html": [
       "<style type=\"text/css\">\n",
       "</style>\n",
       "<table id=\"T_95322\">\n",
       "  <thead>\n",
       "    <tr>\n",
       "      <th class=\"blank level0\" >&nbsp;</th>\n",
       "      <th id=\"T_95322_level0_col0\" class=\"col_heading level0 col0\" >Accuracy</th>\n",
       "      <th id=\"T_95322_level0_col1\" class=\"col_heading level0 col1\" >Precision_micro</th>\n",
       "      <th id=\"T_95322_level0_col2\" class=\"col_heading level0 col2\" >Recall_micro</th>\n",
       "      <th id=\"T_95322_level0_col3\" class=\"col_heading level0 col3\" >F1_micro</th>\n",
       "      <th id=\"T_95322_level0_col4\" class=\"col_heading level0 col4\" >ROC_AUC_micro</th>\n",
       "    </tr>\n",
       "    <tr>\n",
       "      <th class=\"index_name level0\" >Model</th>\n",
       "      <th class=\"blank col0\" >&nbsp;</th>\n",
       "      <th class=\"blank col1\" >&nbsp;</th>\n",
       "      <th class=\"blank col2\" >&nbsp;</th>\n",
       "      <th class=\"blank col3\" >&nbsp;</th>\n",
       "      <th class=\"blank col4\" >&nbsp;</th>\n",
       "    </tr>\n",
       "  </thead>\n",
       "  <tbody>\n",
       "    <tr>\n",
       "      <th id=\"T_95322_level0_row0\" class=\"row_heading level0 row0\" >Baseline CNN (Softmax)</th>\n",
       "      <td id=\"T_95322_row0_col0\" class=\"data row0 col0\" >0.7916</td>\n",
       "      <td id=\"T_95322_row0_col1\" class=\"data row0 col1\" >0.7916</td>\n",
       "      <td id=\"T_95322_row0_col2\" class=\"data row0 col2\" >0.7916</td>\n",
       "      <td id=\"T_95322_row0_col3\" class=\"data row0 col3\" >0.7916</td>\n",
       "      <td id=\"T_95322_row0_col4\" class=\"data row0 col4\" >0.9846</td>\n",
       "    </tr>\n",
       "    <tr>\n",
       "      <th id=\"T_95322_level0_row1\" class=\"row_heading level0 row1\" >CNN → SVM (Calibrated)</th>\n",
       "      <td id=\"T_95322_row1_col0\" class=\"data row1 col0\" >0.8958</td>\n",
       "      <td id=\"T_95322_row1_col1\" class=\"data row1 col1\" >0.8958</td>\n",
       "      <td id=\"T_95322_row1_col2\" class=\"data row1 col2\" >0.8958</td>\n",
       "      <td id=\"T_95322_row1_col3\" class=\"data row1 col3\" >0.8958</td>\n",
       "      <td id=\"T_95322_row1_col4\" class=\"data row1 col4\" >0.9916</td>\n",
       "    </tr>\n",
       "    <tr>\n",
       "      <th id=\"T_95322_level0_row2\" class=\"row_heading level0 row2\" >CNN → XGBoost</th>\n",
       "      <td id=\"T_95322_row2_col0\" class=\"data row2 col0\" >0.8589</td>\n",
       "      <td id=\"T_95322_row2_col1\" class=\"data row2 col1\" >0.8589</td>\n",
       "      <td id=\"T_95322_row2_col2\" class=\"data row2 col2\" >0.8589</td>\n",
       "      <td id=\"T_95322_row2_col3\" class=\"data row2 col3\" >0.8589</td>\n",
       "      <td id=\"T_95322_row2_col4\" class=\"data row2 col4\" >0.9934</td>\n",
       "    </tr>\n",
       "  </tbody>\n",
       "</table>\n"
      ],
      "text/plain": [
       "<pandas.io.formats.style.Styler at 0x29c95b30f50>"
      ]
     },
     "execution_count": 26,
     "metadata": {},
     "output_type": "execute_result"
    }
   ],
   "source": [
    "# %%\n",
    "results = pd.DataFrame([\n",
    "    {\n",
    "        \"Model\": \"Baseline CNN (Softmax)\",\n",
    "        \"Accuracy\": cnn_test[\"acc\"],\n",
    "        \"Precision_micro\": cnn_test[\"precision_micro\"],\n",
    "        \"Recall_micro\": cnn_test[\"recall_micro\"],\n",
    "        \"F1_micro\": cnn_test[\"f1_micro\"],\n",
    "        \"ROC_AUC_micro\": cnn_auc\n",
    "    },\n",
    "    {\n",
    "        \"Model\": \"CNN → SVM (Calibrated)\",\n",
    "        \"Accuracy\": svm_acc,\n",
    "        \"Precision_micro\": svm_prec,\n",
    "        \"Recall_micro\": svm_rec,\n",
    "        \"F1_micro\": svm_f1,\n",
    "        \"ROC_AUC_micro\": svm_auc\n",
    "    },\n",
    "    {\n",
    "        \"Model\": \"CNN → XGBoost\",\n",
    "        \"Accuracy\": xgb_acc,\n",
    "        \"Precision_micro\": xgb_prec,\n",
    "        \"Recall_micro\": xgb_rec,\n",
    "        \"F1_micro\": xgb_f1,\n",
    "        \"ROC_AUC_micro\": xgb_auc\n",
    "    }\n",
    "]).set_index(\"Model\")\n",
    "\n",
    "results.style.format(\"{:.4f}\")\n"
   ]
  },
  {
   "cell_type": "markdown",
   "id": "1c40b7ba",
   "metadata": {},
   "source": []
  },
  {
   "cell_type": "code",
   "execution_count": 27,
   "id": "baccf899",
   "metadata": {},
   "outputs": [
    {
     "name": "stdout",
     "output_type": "stream",
     "text": [
      "Best (by F1_micro): SVM\n",
      "\n",
      "Classification Report (best):\n",
      "\n",
      "                           precision    recall  f1-score   support\n",
      "\n",
      "              Black-grass       0.77      0.70      0.73        53\n",
      "                 Charlock       0.94      0.95      0.94        78\n",
      "                 Cleavers       0.93      0.90      0.91        58\n",
      "         Common Chickweed       0.91      0.98      0.94       122\n",
      "             Common wheat       0.91      0.91      0.91        44\n",
      "                  Fat Hen       0.90      0.85      0.88        95\n",
      "         Loose Silky-bent       0.86      0.87      0.86       131\n",
      "                    Maize       0.98      0.91      0.94        44\n",
      "        Scentless Mayweed       0.82      0.92      0.87       103\n",
      "          Shepherds Purse       0.91      0.63      0.74        46\n",
      "Small-flowered Cranesbill       0.93      0.98      0.96        99\n",
      "               Sugar beet       0.96      0.95      0.95        77\n",
      "\n",
      "                 accuracy                           0.90       950\n",
      "                macro avg       0.90      0.88      0.89       950\n",
      "             weighted avg       0.90      0.90      0.89       950\n",
      "\n"
     ]
    },
    {
     "data": {
      "image/png": "[encoded data removed]",
      "text/plain": [
       "<Figure size 750x650 with 2 Axes>"
      ]
     },
     "metadata": {},
     "output_type": "display_data"
    }
   ],
   "source": [
    "# %%\n",
    "def best_by_f1():\n",
    "    triples = [\n",
    "        (\"CNN\", cnn_test[\"y_true\"], cnn_test[\"y_pred\"]),\n",
    "        (\"SVM\", y_test, svm_pred),\n",
    "        (\"XGB\", y_test, xgb_pred),\n",
    "    ]\n",
    "    scores = []\n",
    "    for name, yt, yp in triples:\n",
    "        _, _, f1, _ = precision_recall_fscore_support(yt, yp, average=\"micro\", zero_division=0)\n",
    "        scores.append((name, f1))\n",
    "    scores.sort(key=lambda z: z[1], reverse=True)\n",
    "    return scores[0][0]\n",
    "\n",
    "best = best_by_f1()\n",
    "print(\"Best (by F1_micro):\", best)\n",
    "\n",
    "if best == \"CNN\":\n",
    "    y_true_b, y_pred_b = cnn_test[\"y_true\"], cnn_test[\"y_pred\"]\n",
    "elif best == \"SVM\":\n",
    "    y_true_b, y_pred_b = y_test, svm_pred\n",
    "else:\n",
    "    y_true_b, y_pred_b = y_test, xgb_pred\n",
    "\n",
    "print(\"\\nClassification Report (best):\\n\")\n",
    "print(classification_report(y_true_b, y_pred_b, target_names=class_names, zero_division=0))\n",
    "\n",
    "cm = confusion_matrix(y_true_b, y_pred_b)\n",
    "fig, ax = plt.subplots(figsize=(7.5, 6.5))\n",
    "im = ax.imshow(cm, interpolation='nearest')\n",
    "ax.figure.colorbar(im, ax=ax)\n",
    "ax.set(xticks=np.arange(cm.shape[1]),\n",
    "       yticks=np.arange(cm.shape[0]),\n",
    "       xticklabels=class_names, yticklabels=class_names,\n",
    "       ylabel='True label',\n",
    "       xlabel='Predicted label',\n",
    "       title='Confusion Matrix (Best Model)')\n",
    "plt.setp(ax.get_xticklabels(), rotation=45, ha=\"right\", rotation_mode=\"anchor\")\n",
    "plt.tight_layout()\n",
    "plt.show()\n"
   ]
  }
 ],
 "metadata": {
  "kernelspec": {
   "display_name": "Python 3",
   "language": "python",
   "name": "python3"
  },
  "language_info": {
   "codemirror_mode": {
    "name": "ipython",
    "version": 3
   },
   "file_extension": ".py",
   "mimetype": "text/x-python",
   "name": "python",
   "nbconvert_exporter": "python",
   "pygments_lexer": "ipython3",
   "version": "3.13.7"
  }
 },
 "nbformat": 4,
 "nbformat_minor": 5
}
